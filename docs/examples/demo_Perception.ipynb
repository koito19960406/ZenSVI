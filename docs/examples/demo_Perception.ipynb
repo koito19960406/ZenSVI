{
 "cells": [
  {
   "cell_type": "markdown",
   "metadata": {},
   "source": [
    "# Perception models\n",
    "\n",
    "This tutorial demostrates how to use ZenSVI to access prediction models to predict Urban Visual Perception of your street view images for the following indicators:\n",
    "- Safety\n",
    "- Lively\n",
    "- Wealthy\n",
    "- Beautiful\n",
    "- Boring\n",
    "- Depressing\n",
    "\n",
    "Currently two prediction models are available. Liang et al. prediciton model is based on a ResNet50 architecture and Ouyang's model is based on a Vision Transformer (ViT) archicture.\n",
    "\n",
    "All values are float in the range of [0, 10].\n",
    "\n",
    "**Acknowledgement**\n",
    "Liang, X., Chang, J. H., Gao, S., Zhao, T. & Biljecki, F. (2024). Evaluating human perception of building exteriors using street view imagery. Building and Environment, 263, 111875. https://doi.org/10.1016/j.buildenv.2024.111875\n",
    "\n",
    "Ouyang, J.: Code repository for predicting human perception (2023)\n",
    "\n",
    "BibTex:\n",
    "```bibtex\n",
    "\n",
    "@article{Liang.2024, \n",
    "    year = {2024}, \n",
    "    title = {{Evaluating human perception of building exteriors using street view imagery}}, \n",
    "    author = {Liang, Xiucheng and Chang, Jiat Hwee and Gao, Song and Zhao, Tianhong and Biljecki, Filip}, \n",
    "    journal = {Building and Environment}, \n",
    "    issn = {0360-1323}, \n",
    "    doi = {10.1016/j.buildenv.2024.111875}, \n",
    "    pages = {111875}, \n",
    "    volume = {263}, \n",
    "}\n",
    "\n",
    "@article{Ouyang.2023,\n",
    "    author = {Ouyang, Jiani},\n",
    "    title ={Code repository for predicting human perception},\n",
    "    year = {2023},\n",
    "    url = {https://github.com/strawmelon11/human-perception-place-pulse},\n",
    "}\n",
    "\n",
    "```"
   ]
  },
  {
   "cell_type": "markdown",
   "metadata": {},
   "source": [
    "## Download sample images"
   ]
  },
  {
   "cell_type": "code",
   "execution_count": 1,
   "metadata": {
    "execution": {
     "iopub.execute_input": "2024-11-22T07:53:27.795414Z",
     "iopub.status.busy": "2024-11-22T07:53:27.795009Z",
     "iopub.status.idle": "2024-11-22T07:53:56.434278Z",
     "shell.execute_reply": "2024-11-22T07:53:56.433237Z",
     "shell.execute_reply.started": "2024-11-22T07:53:27.795383Z"
    },
    "vscode": {
     "languageId": "plaintext"
    }
   },
   "outputs": [
    {
     "name": "stderr",
     "output_type": "stream",
     "text": [
      "/Users/mquintana/miniforge3/envs/zensvi_311/lib/python3.11/site-packages/tqdm/auto.py:21: TqdmWarning: IProgress not found. Please update jupyter and ipywidgets. See https://ipywidgets.readthedocs.io/en/stable/user_install.html\n",
      "  from .autonotebook import tqdm as notebook_tqdm\n"
     ]
    }
   ],
   "source": [
    "from huggingface_hub import HfApi, hf_hub_download\n",
    "import os\n",
    "\n",
    "def download_folder(repo_id, repo_type, folder_path, local_dir):\n",
    "    \"\"\"\n",
    "    Download an entire folder from a huggingface dataset repository.\n",
    "    repo_id : string\n",
    "        The ID of the repository (e.g., 'username/repo_name').\n",
    "    repo_type : string\n",
    "        Type of the repo, dataset or model.\n",
    "    folder_path : string\n",
    "        The path to the folder within the repository.\n",
    "    local_dir : string\n",
    "        Local folder to download the data. This mimics git behaviour\n",
    "    \"\"\"\n",
    "    api = HfApi()\n",
    "    # list all files in the repo, keep the ones within folder_path\n",
    "    all_files = api.list_repo_files(repo_id, repo_type=repo_type)\n",
    "    files_list = [f for f in all_files if f.startswith(folder_path)]\n",
    "\n",
    "    # download each of those files\n",
    "    for file_path in files_list:\n",
    "        hf_hub_download(repo_id=repo_id, repo_type=repo_type,\n",
    "                        filename=file_path, local_dir=local_dir)\n",
    "\n",
    "\n",
    "# Download entire data/ folder\n",
    "repo_id = \"NUS-UAL/zensvi_test_data\" # you can replace this for other huggingface repos\n",
    "repo_type = \"dataset\" # required by the API when the repo is a dataset\n",
    "folder_path = \"input/visualization/batch_images/batch_1\" # replace the folder you want within the repo \n",
    "local_dir = \"./demo_data\" # the local folder in your computer where it will be downloaded\n",
    "if not os.path.exists(local_dir):\n",
    "    os.makedirs(local_dir)\n",
    "\n",
    "# By default, huggingface download them to the .cache/huggingface folder\n",
    "download_folder(repo_id, repo_type, folder_path, local_dir)"
   ]
  },
  {
   "cell_type": "markdown",
   "metadata": {},
   "source": [
    "# Classification"
   ]
  },
  {
   "cell_type": "code",
   "execution_count": 2,
   "metadata": {
    "execution": {
     "iopub.execute_input": "2024-11-22T07:53:56.435556Z",
     "iopub.status.busy": "2024-11-22T07:53:56.435294Z",
     "iopub.status.idle": "2024-11-22T07:53:59.288891Z",
     "shell.execute_reply": "2024-11-22T07:53:59.288584Z",
     "shell.execute_reply.started": "2024-11-22T07:53:56.435537Z"
    }
   },
   "outputs": [],
   "source": [
    "from pathlib import Path\n",
    "\n",
    "from zensvi.cv import ClassifierPerception\n",
    "from zensvi.cv import ClassifierPerceptionViT\n",
    "from zensvi.cv.classification.utils.Model_01 import Net"
   ]
  },
  {
   "cell_type": "code",
   "execution_count": 3,
   "metadata": {
    "execution": {
     "iopub.execute_input": "2024-11-22T07:53:59.289475Z",
     "iopub.status.busy": "2024-11-22T07:53:59.289311Z",
     "iopub.status.idle": "2024-11-22T07:53:59.291965Z",
     "shell.execute_reply": "2024-11-22T07:53:59.291659Z",
     "shell.execute_reply.started": "2024-11-22T07:53:59.289465Z"
    }
   },
   "outputs": [],
   "source": [
    "indicator = 'more boring'\n",
    "dir_summary_output_1 = str(Path(local_dir) / \"directory/summary_Liang\")\n",
    "dir_summary_output_2 = str(Path(local_dir) / \"directory/summary_Ouyang\")\n",
    "input_folder = str(Path(local_dir) / folder_path)"
   ]
  },
  {
   "cell_type": "markdown",
   "metadata": {},
   "source": [
    "## Entire folder"
   ]
  },
  {
   "cell_type": "code",
   "execution_count": 4,
   "metadata": {
    "execution": {
     "iopub.execute_input": "2024-11-22T07:53:59.292641Z",
     "iopub.status.busy": "2024-11-22T07:53:59.292518Z",
     "iopub.status.idle": "2024-11-22T07:54:04.374256Z",
     "shell.execute_reply": "2024-11-22T07:54:04.373925Z",
     "shell.execute_reply.started": "2024-11-22T07:53:59.292631Z"
    },
    "scrolled": true
   },
   "outputs": [
    {
     "name": "stdout",
     "output_type": "stream",
     "text": [
      "Using CPU\n",
      "Using CPU\n"
     ]
    },
    {
     "name": "stderr",
     "output_type": "stream",
     "text": [
      "/Users/mquintana/Developer/forked__zensvi/src/zensvi/cv/classification/perception.py:134: FutureWarning: You are using `torch.load` with `weights_only=False` (the current default value), which uses the default pickle module implicitly. It is possible to construct malicious pickle data which will execute arbitrary code during unpickling (See https://github.com/pytorch/pytorch/blob/main/SECURITY.md#untrusted-models for more details). In a future release, the default value for `weights_only` will be flipped to `True`. This limits the functions that could be executed during unpickling. Arbitrary objects will no longer be allowed to be loaded via this mode unless they are explicitly allowlisted by the user via `torch.serialization.add_safe_globals`. We recommend you start setting `weights_only=True` for any use case where you don't have full control of the loaded file. Please open an issue on GitHub for any issues related to this experimental feature.\n",
      "  checkpoint = torch.load(checkpoint_path, map_location=self.device)\n",
      "Evaluating human perception of study: more boring: 100%|██████████████████████████████████████████████████████| 34/34 [00:04<00:00,  7.83it/s]\n"
     ]
    },
    {
     "data": {
      "text/plain": [
       "[{'filename_key': '1158297185027486', 'more boring': 3.4220707416534424},\n",
       " {'filename_key': '851588095803411', 'more boring': 4.156600475311279},\n",
       " {'filename_key': '3078044802482414', 'more boring': 4.460619926452637},\n",
       " {'filename_key': '600711734231518', 'more boring': 5.521065711975098},\n",
       " {'filename_key': '515077153491310', 'more boring': 4.191150188446045},\n",
       " {'filename_key': '5321359991242907', 'more boring': 4.283115386962891},\n",
       " {'filename_key': '494572955764175', 'more boring': 4.368640899658203},\n",
       " {'filename_key': '986257745381645', 'more boring': 4.948808670043945},\n",
       " {'filename_key': '1160171564566431', 'more boring': 4.737444877624512},\n",
       " {'filename_key': '384683626988506', 'more boring': 3.701953649520874},\n",
       " {'filename_key': '628231478575219', 'more boring': 3.6941511631011963},\n",
       " {'filename_key': '1455202961590851', 'more boring': 3.9634287357330322},\n",
       " {'filename_key': '1201847686924949', 'more boring': 6.514774322509766},\n",
       " {'filename_key': '285790924047947', 'more boring': 3.459219217300415},\n",
       " {'filename_key': '769036347638490', 'more boring': 3.714940309524536},\n",
       " {'filename_key': '442127337522246', 'more boring': 3.8784844875335693},\n",
       " {'filename_key': '1060932214587523', 'more boring': 4.137831687927246},\n",
       " {'filename_key': '309178287522328', 'more boring': 5.767539024353027},\n",
       " {'filename_key': '4243461929044270', 'more boring': 3.8126723766326904},\n",
       " {'filename_key': '780203909841888', 'more boring': 3.3381383419036865},\n",
       " {'filename_key': '829854054614113', 'more boring': 4.967872619628906},\n",
       " {'filename_key': '279187160565071', 'more boring': 3.166968822479248},\n",
       " {'filename_key': '746859949850970', 'more boring': 3.949856996536255},\n",
       " {'filename_key': '140739801908262', 'more boring': 3.203310251235962},\n",
       " {'filename_key': '763642884785145', 'more boring': 3.3384649753570557},\n",
       " {'filename_key': '153819143472034', 'more boring': 4.038415431976318},\n",
       " {'filename_key': '740524730615854', 'more boring': 5.4163899421691895},\n",
       " {'filename_key': '1132155588182622', 'more boring': 4.897639751434326},\n",
       " {'filename_key': '466353571102919', 'more boring': 4.820302486419678},\n",
       " {'filename_key': '178171651295060', 'more boring': 4.452124118804932},\n",
       " {'filename_key': '2191380267663834', 'more boring': 5.485678672790527},\n",
       " {'filename_key': '1433049487639971', 'more boring': 6.263242244720459},\n",
       " {'filename_key': '455893955903565', 'more boring': 3.3749942779541016},\n",
       " {'filename_key': '369828518560588', 'more boring': 4.751296520233154},\n",
       " {'filename_key': '1239190920365188', 'more boring': 3.9415416717529297},\n",
       " {'filename_key': '787864199235037', 'more boring': 3.196761131286621},\n",
       " {'filename_key': '997069887637746', 'more boring': 6.66798734664917},\n",
       " {'filename_key': '242686708680497', 'more boring': 4.6262431144714355},\n",
       " {'filename_key': '1073136200058414', 'more boring': 3.6564416885375977},\n",
       " {'filename_key': '372118695052994', 'more boring': 4.2638397216796875},\n",
       " {'filename_key': '400343115498572', 'more boring': 2.935410261154175},\n",
       " {'filename_key': '568163214952634', 'more boring': 3.247823715209961},\n",
       " {'filename_key': '832645251205175', 'more boring': 6.1634907722473145},\n",
       " {'filename_key': '1084443125613205', 'more boring': 4.674773216247559},\n",
       " {'filename_key': '382118559876835', 'more boring': 4.022745609283447},\n",
       " {'filename_key': '521600718998116', 'more boring': 4.809849739074707},\n",
       " {'filename_key': '466596317888663', 'more boring': 3.407823324203491},\n",
       " {'filename_key': '3273088799604749', 'more boring': 5.163775444030762},\n",
       " {'filename_key': '175110354503057', 'more boring': 4.265507221221924},\n",
       " {'filename_key': '293130315630690', 'more boring': 3.287019968032837},\n",
       " {'filename_key': '368440941218058', 'more boring': 4.59842586517334},\n",
       " {'filename_key': '360374115501372', 'more boring': 2.4474563598632812},\n",
       " {'filename_key': '317344056477031', 'more boring': 3.2490713596343994},\n",
       " {'filename_key': '1411457862599065', 'more boring': 3.5495786666870117},\n",
       " {'filename_key': '1351343122024687', 'more boring': 3.5913236141204834},\n",
       " {'filename_key': '177464108254007', 'more boring': 4.513995170593262},\n",
       " {'filename_key': '893275082066597', 'more boring': 4.35598087310791},\n",
       " {'filename_key': '1150400689211800', 'more boring': 5.398260116577148},\n",
       " {'filename_key': '142884951426949', 'more boring': 3.2553606033325195},\n",
       " {'filename_key': '132099122266773', 'more boring': 5.2104291915893555},\n",
       " {'filename_key': '152342177384336', 'more boring': 3.9949471950531006},\n",
       " {'filename_key': '644978016913808', 'more boring': 3.5999386310577393},\n",
       " {'filename_key': '798932901298516', 'more boring': 6.6344828605651855},\n",
       " {'filename_key': '1282744585815412', 'more boring': 2.9670517444610596},\n",
       " {'filename_key': '511045037457458', 'more boring': 3.205746650695801},\n",
       " {'filename_key': '3172519823016683', 'more boring': 4.630003929138184},\n",
       " {'filename_key': '1143534366099128', 'more boring': 4.599789142608643},\n",
       " {'filename_key': '929998750876650', 'more boring': 3.596707344055176},\n",
       " {'filename_key': '1652222298294768', 'more boring': 3.42852520942688},\n",
       " {'filename_key': '931251737725257', 'more boring': 4.933721542358398},\n",
       " {'filename_key': '570248724481485', 'more boring': 4.066063404083252},\n",
       " {'filename_key': '1090140864906446', 'more boring': 3.534109354019165},\n",
       " {'filename_key': '5682964278411977', 'more boring': 4.355992794036865},\n",
       " {'filename_key': '725417518697053', 'more boring': 3.7487385272979736},\n",
       " {'filename_key': '182693114152610', 'more boring': 4.389308929443359},\n",
       " {'filename_key': '1148421702811742', 'more boring': 6.727350234985352},\n",
       " {'filename_key': '4020189094872009', 'more boring': 4.605851650238037},\n",
       " {'filename_key': '1217856115704361', 'more boring': 3.6770095825195312},\n",
       " {'filename_key': '128990276487694', 'more boring': 3.8086607456207275},\n",
       " {'filename_key': '206022451136825', 'more boring': 6.730124473571777},\n",
       " {'filename_key': '119736067293890', 'more boring': 3.2311599254608154},\n",
       " {'filename_key': '293583242396497', 'more boring': 3.6974170207977295},\n",
       " {'filename_key': '689758229497466', 'more boring': 3.4320437908172607},\n",
       " {'filename_key': '758475608688555', 'more boring': 3.147540807723999},\n",
       " {'filename_key': '1495040270927634', 'more boring': 3.9054298400878906},\n",
       " {'filename_key': '208149790851091', 'more boring': 4.014562606811523},\n",
       " {'filename_key': '450076786952826', 'more boring': 3.715214729309082},\n",
       " {'filename_key': '752206072775246', 'more boring': 3.7525136470794678},\n",
       " {'filename_key': '1269819240220850', 'more boring': 3.913250684738159},\n",
       " {'filename_key': '2558106297827538', 'more boring': 3.3478240966796875},\n",
       " {'filename_key': '753011575882126', 'more boring': 4.7493577003479},\n",
       " {'filename_key': '308377623987060', 'more boring': 3.987757921218872},\n",
       " {'filename_key': '507402617358382', 'more boring': 4.615646839141846},\n",
       " {'filename_key': '151831933487222', 'more boring': 4.0581464767456055},\n",
       " {'filename_key': '788111265235499', 'more boring': 3.763338565826416},\n",
       " {'filename_key': '3257739417879181', 'more boring': 5.025196075439453},\n",
       " {'filename_key': '728961341720924', 'more boring': 3.382528305053711},\n",
       " {'filename_key': '202096538813995', 'more boring': 3.8208742141723633},\n",
       " {'filename_key': '602785677836434', 'more boring': 3.874995470046997},\n",
       " {'filename_key': '517455165915617', 'more boring': 4.339915752410889}]"
      ]
     },
     "execution_count": 4,
     "metadata": {},
     "output_type": "execute_result"
    }
   ],
   "source": [
    "# model by Liang et al\n",
    "classifier = ClassifierPerception(perception_study = indicator)\n",
    "classifier.classify(\n",
    "    input_folder,\n",
    "    dir_summary_output=dir_summary_output_1,\n",
    "    batch_size=3,\n",
    ")"
   ]
  },
  {
   "cell_type": "code",
   "execution_count": 5,
   "metadata": {
    "execution": {
     "iopub.execute_input": "2024-11-22T07:54:04.374918Z",
     "iopub.status.busy": "2024-11-22T07:54:04.374813Z",
     "iopub.status.idle": "2024-11-22T07:54:19.766607Z",
     "shell.execute_reply": "2024-11-22T07:54:19.766303Z",
     "shell.execute_reply.started": "2024-11-22T07:54:04.374908Z"
    }
   },
   "outputs": [
    {
     "name": "stdout",
     "output_type": "stream",
     "text": [
      "Using CPU\n",
      "Using CPU\n"
     ]
    },
    {
     "name": "stderr",
     "output_type": "stream",
     "text": [
      "Fetching 2 files: 100%|███████████████████████████████████████████████████████████████████████████████████████| 2/2 [00:00<00:00, 1800.13it/s]\n",
      "/Users/mquintana/Developer/forked__zensvi/src/zensvi/cv/classification/perception.py:283: FutureWarning: You are using `torch.load` with `weights_only=False` (the current default value), which uses the default pickle module implicitly. It is possible to construct malicious pickle data which will execute arbitrary code during unpickling (See https://github.com/pytorch/pytorch/blob/main/SECURITY.md#untrusted-models for more details). In a future release, the default value for `weights_only` will be flipped to `True`. This limits the functions that could be executed during unpickling. Arbitrary objects will no longer be allowed to be loaded via this mode unless they are explicitly allowlisted by the user via `torch.serialization.add_safe_globals`. We recommend you start setting `weights_only=True` for any use case where you don't have full control of the loaded file. Please open an issue on GitHub for any issues related to this experimental feature.\n",
      "  model = torch.load(checkpoint_path, map_location=self.device)\n",
      "Evaluating human perception of study: more boring: 100%|██████████████████████████████████████████████████████| 34/34 [00:14<00:00,  2.38it/s]\n"
     ]
    },
    {
     "data": {
      "text/plain": [
       "[{'filename_key': '1158297185027486', 'more boring': 0.949999988079071},\n",
       " {'filename_key': '851588095803411', 'more boring': 3.609999895095825},\n",
       " {'filename_key': '3078044802482414', 'more boring': 5.889999866485596},\n",
       " {'filename_key': '600711734231518', 'more boring': 3.0399999618530273},\n",
       " {'filename_key': '515077153491310', 'more boring': 4.71999979019165},\n",
       " {'filename_key': '5321359991242907', 'more boring': 1.6399999856948853},\n",
       " {'filename_key': '494572955764175', 'more boring': 2.5399999618530273},\n",
       " {'filename_key': '986257745381645', 'more boring': 3.640000104904175},\n",
       " {'filename_key': '1160171564566431', 'more boring': 1.5399999618530273},\n",
       " {'filename_key': '384683626988506', 'more boring': 7.619999885559082},\n",
       " {'filename_key': '628231478575219', 'more boring': 2.75},\n",
       " {'filename_key': '1455202961590851', 'more boring': 1.2100000381469727},\n",
       " {'filename_key': '1201847686924949', 'more boring': 2.4200000762939453},\n",
       " {'filename_key': '285790924047947', 'more boring': 4.389999866485596},\n",
       " {'filename_key': '769036347638490', 'more boring': 2.0199999809265137},\n",
       " {'filename_key': '442127337522246', 'more boring': 8.329999923706055},\n",
       " {'filename_key': '1060932214587523', 'more boring': 6.849999904632568},\n",
       " {'filename_key': '309178287522328', 'more boring': 6.730000019073486},\n",
       " {'filename_key': '4243461929044270', 'more boring': 2.2699999809265137},\n",
       " {'filename_key': '780203909841888', 'more boring': 3.740000009536743},\n",
       " {'filename_key': '829854054614113', 'more boring': 6.769999980926514},\n",
       " {'filename_key': '279187160565071', 'more boring': 7.320000171661377},\n",
       " {'filename_key': '746859949850970', 'more boring': 1.5499999523162842},\n",
       " {'filename_key': '140739801908262', 'more boring': 4.320000171661377},\n",
       " {'filename_key': '763642884785145', 'more boring': 1.5299999713897705},\n",
       " {'filename_key': '153819143472034', 'more boring': 3.740000009536743},\n",
       " {'filename_key': '740524730615854', 'more boring': 0.9399999976158142},\n",
       " {'filename_key': '1132155588182622', 'more boring': 2.690000057220459},\n",
       " {'filename_key': '466353571102919', 'more boring': 2.1700000762939453},\n",
       " {'filename_key': '178171651295060', 'more boring': 2.0199999809265137},\n",
       " {'filename_key': '2191380267663834', 'more boring': 1.850000023841858},\n",
       " {'filename_key': '1433049487639971', 'more boring': 8.729999542236328},\n",
       " {'filename_key': '455893955903565', 'more boring': 4.21999979019165},\n",
       " {'filename_key': '369828518560588', 'more boring': 1.350000023841858},\n",
       " {'filename_key': '1239190920365188', 'more boring': 2.3299999237060547},\n",
       " {'filename_key': '787864199235037', 'more boring': 2.0399999618530273},\n",
       " {'filename_key': '997069887637746', 'more boring': 5.510000228881836},\n",
       " {'filename_key': '242686708680497', 'more boring': 6.900000095367432},\n",
       " {'filename_key': '1073136200058414', 'more boring': 2.5399999618530273},\n",
       " {'filename_key': '372118695052994', 'more boring': 2.299999952316284},\n",
       " {'filename_key': '400343115498572', 'more boring': 1.0099999904632568},\n",
       " {'filename_key': '568163214952634', 'more boring': 1.9500000476837158},\n",
       " {'filename_key': '832645251205175', 'more boring': 5.320000171661377},\n",
       " {'filename_key': '1084443125613205', 'more boring': 3.8299999237060547},\n",
       " {'filename_key': '382118559876835', 'more boring': 5.5},\n",
       " {'filename_key': '521600718998116', 'more boring': 6.079999923706055},\n",
       " {'filename_key': '466596317888663', 'more boring': 1.3700000047683716},\n",
       " {'filename_key': '3273088799604749', 'more boring': 2.309999942779541},\n",
       " {'filename_key': '175110354503057', 'more boring': 8.539999961853027},\n",
       " {'filename_key': '293130315630690', 'more boring': 6.059999942779541},\n",
       " {'filename_key': '368440941218058', 'more boring': 7.039999961853027},\n",
       " {'filename_key': '360374115501372', 'more boring': 2.430000066757202},\n",
       " {'filename_key': '317344056477031', 'more boring': 6.400000095367432},\n",
       " {'filename_key': '1411457862599065', 'more boring': 1.5299999713897705},\n",
       " {'filename_key': '1351343122024687', 'more boring': 1.5800000429153442},\n",
       " {'filename_key': '177464108254007', 'more boring': 3.759999990463257},\n",
       " {'filename_key': '893275082066597', 'more boring': 0.9300000071525574},\n",
       " {'filename_key': '1150400689211800', 'more boring': 6.170000076293945},\n",
       " {'filename_key': '142884951426949', 'more boring': 2.869999885559082},\n",
       " {'filename_key': '132099122266773', 'more boring': 4.389999866485596},\n",
       " {'filename_key': '152342177384336', 'more boring': 3.2899999618530273},\n",
       " {'filename_key': '644978016913808', 'more boring': 3.6500000953674316},\n",
       " {'filename_key': '798932901298516', 'more boring': 8.670000076293945},\n",
       " {'filename_key': '1282744585815412', 'more boring': 1.9700000286102295},\n",
       " {'filename_key': '511045037457458', 'more boring': 1.4500000476837158},\n",
       " {'filename_key': '3172519823016683', 'more boring': 2.859999895095825},\n",
       " {'filename_key': '1143534366099128', 'more boring': 8.380000114440918},\n",
       " {'filename_key': '929998750876650', 'more boring': 1.1299999952316284},\n",
       " {'filename_key': '1652222298294768', 'more boring': 2.25},\n",
       " {'filename_key': '931251737725257', 'more boring': 4.059999942779541},\n",
       " {'filename_key': '570248724481485', 'more boring': 1.3799999952316284},\n",
       " {'filename_key': '1090140864906446', 'more boring': 1.4199999570846558},\n",
       " {'filename_key': '5682964278411977', 'more boring': 6.690000057220459},\n",
       " {'filename_key': '725417518697053', 'more boring': 6.480000019073486},\n",
       " {'filename_key': '182693114152610', 'more boring': 1.7799999713897705},\n",
       " {'filename_key': '1148421702811742', 'more boring': 5.820000171661377},\n",
       " {'filename_key': '4020189094872009', 'more boring': 4.210000038146973},\n",
       " {'filename_key': '1217856115704361', 'more boring': 7.190000057220459},\n",
       " {'filename_key': '128990276487694', 'more boring': 5.710000038146973},\n",
       " {'filename_key': '206022451136825', 'more boring': 1.1699999570846558},\n",
       " {'filename_key': '119736067293890', 'more boring': 2.069999933242798},\n",
       " {'filename_key': '293583242396497', 'more boring': 3.0399999618530273},\n",
       " {'filename_key': '689758229497466', 'more boring': 1.690000057220459},\n",
       " {'filename_key': '758475608688555', 'more boring': 2.430000066757202},\n",
       " {'filename_key': '1495040270927634', 'more boring': 4.260000228881836},\n",
       " {'filename_key': '208149790851091', 'more boring': 4.349999904632568},\n",
       " {'filename_key': '450076786952826', 'more boring': 1.3300000429153442},\n",
       " {'filename_key': '752206072775246', 'more boring': 2.319999933242798},\n",
       " {'filename_key': '1269819240220850', 'more boring': 1.9600000381469727},\n",
       " {'filename_key': '2558106297827538', 'more boring': 2.369999885559082},\n",
       " {'filename_key': '753011575882126', 'more boring': 1.7100000381469727},\n",
       " {'filename_key': '308377623987060', 'more boring': 4.21999979019165},\n",
       " {'filename_key': '507402617358382', 'more boring': 3.75},\n",
       " {'filename_key': '151831933487222', 'more boring': 0.9800000190734863},\n",
       " {'filename_key': '788111265235499', 'more boring': 6.46999979019165},\n",
       " {'filename_key': '3257739417879181', 'more boring': 2.940000057220459},\n",
       " {'filename_key': '728961341720924', 'more boring': 2.4600000381469727},\n",
       " {'filename_key': '202096538813995', 'more boring': 2.5},\n",
       " {'filename_key': '602785677836434', 'more boring': 0.9200000166893005},\n",
       " {'filename_key': '517455165915617', 'more boring': 0.9399999976158142}]"
      ]
     },
     "execution_count": 5,
     "metadata": {},
     "output_type": "execute_result"
    }
   ],
   "source": [
    "# model by Ouyang\n",
    "classifier = ClassifierPerceptionViT(perception_study = indicator)\n",
    "classifier.classify(\n",
    "            input_folder,\n",
    "            dir_summary_output=dir_summary_output_2,\n",
    "            batch_size=3,\n",
    ")"
   ]
  },
  {
   "cell_type": "markdown",
   "metadata": {},
   "source": [
    "## One image"
   ]
  },
  {
   "cell_type": "code",
   "execution_count": 6,
   "metadata": {
    "execution": {
     "iopub.execute_input": "2024-11-22T07:54:19.768680Z",
     "iopub.status.busy": "2024-11-22T07:54:19.768561Z",
     "iopub.status.idle": "2024-11-22T07:54:20.455130Z",
     "shell.execute_reply": "2024-11-22T07:54:20.454690Z",
     "shell.execute_reply.started": "2024-11-22T07:54:19.768671Z"
    }
   },
   "outputs": [
    {
     "name": "stdout",
     "output_type": "stream",
     "text": [
      "Using CPU\n",
      "Using CPU\n"
     ]
    },
    {
     "name": "stderr",
     "output_type": "stream",
     "text": [
      "/Users/mquintana/Developer/forked__zensvi/src/zensvi/cv/classification/perception.py:134: FutureWarning: You are using `torch.load` with `weights_only=False` (the current default value), which uses the default pickle module implicitly. It is possible to construct malicious pickle data which will execute arbitrary code during unpickling (See https://github.com/pytorch/pytorch/blob/main/SECURITY.md#untrusted-models for more details). In a future release, the default value for `weights_only` will be flipped to `True`. This limits the functions that could be executed during unpickling. Arbitrary objects will no longer be allowed to be loaded via this mode unless they are explicitly allowlisted by the user via `torch.serialization.add_safe_globals`. We recommend you start setting `weights_only=True` for any use case where you don't have full control of the loaded file. Please open an issue on GitHub for any issues related to this experimental feature.\n",
      "  checkpoint = torch.load(checkpoint_path, map_location=self.device)\n",
      "Evaluating human perception of study: more boring: 100%|████████████████████████████████████████████████████████| 1/1 [00:00<00:00, 19.37it/s]\n"
     ]
    },
    {
     "data": {
      "text/plain": [
       "[{'filename_key': '1060932214587523', 'more boring': 4.13783073425293}]"
      ]
     },
     "execution_count": 6,
     "metadata": {},
     "output_type": "execute_result"
    }
   ],
   "source": [
    "# model by Liang et al\n",
    "image_input = str(Path(input_folder) / \"1060932214587523.png\")\n",
    "dir_summary_output = str(Path(local_dir) / \"single/summary_Liang\")\n",
    "classifier = ClassifierPerception(perception_study = indicator)\n",
    "\n",
    "classifier.classify(\n",
    "    image_input,\n",
    "    dir_summary_output=dir_summary_output,\n",
    ")"
   ]
  },
  {
   "cell_type": "markdown",
   "metadata": {},
   "source": [
    "# Examine output"
   ]
  },
  {
   "cell_type": "code",
   "execution_count": 7,
   "metadata": {
    "execution": {
     "iopub.execute_input": "2024-11-22T07:54:20.455828Z",
     "iopub.status.busy": "2024-11-22T07:54:20.455728Z",
     "iopub.status.idle": "2024-11-22T07:54:20.586687Z",
     "shell.execute_reply": "2024-11-22T07:54:20.586204Z",
     "shell.execute_reply.started": "2024-11-22T07:54:20.455818Z"
    }
   },
   "outputs": [
    {
     "ename": "NameError",
     "evalue": "name 'labels' is not defined",
     "output_type": "error",
     "traceback": [
      "\u001b[0;31m---------------------------------------------------------------------------\u001b[0m",
      "\u001b[0;31mNameError\u001b[0m                                 Traceback (most recent call last)",
      "Cell \u001b[0;32mIn[7], line 9\u001b[0m\n\u001b[1;32m      5\u001b[0m \u001b[38;5;28;01mfrom\u001b[39;00m \u001b[38;5;21;01mPIL\u001b[39;00m \u001b[38;5;28;01mimport\u001b[39;00m Image\n\u001b[1;32m      7\u001b[0m \u001b[38;5;66;03m# Set the paths\u001b[39;00m\n\u001b[1;32m      8\u001b[0m output_folders \u001b[38;5;241m=\u001b[39m [\n\u001b[0;32m----> 9\u001b[0m \u001b[38;5;124mf\u001b[39m\u001b[38;5;124m'\u001b[39m\u001b[38;5;132;01m{\u001b[39;00mlocal_dir\u001b[38;5;132;01m}\u001b[39;00m\u001b[38;5;124m/directory/\u001b[39m\u001b[38;5;132;01m{\u001b[39;00mlabel\u001b[38;5;132;01m}\u001b[39;00m\u001b[38;5;124m'\u001b[39m \u001b[38;5;28;01mfor\u001b[39;00m label \u001b[38;5;129;01min\u001b[39;00m \u001b[43mlabels\u001b[49m\n\u001b[1;32m     10\u001b[0m ]\n\u001b[1;32m     12\u001b[0m \u001b[38;5;66;03m# To collect all image IDs\u001b[39;00m\n\u001b[1;32m     13\u001b[0m image_ids \u001b[38;5;241m=\u001b[39m \u001b[38;5;28mset\u001b[39m([filename\u001b[38;5;241m.\u001b[39msplit(\u001b[38;5;124m'\u001b[39m\u001b[38;5;124m.\u001b[39m\u001b[38;5;124m'\u001b[39m)[\u001b[38;5;241m0\u001b[39m] \u001b[38;5;28;01mfor\u001b[39;00m filename \u001b[38;5;129;01min\u001b[39;00m os\u001b[38;5;241m.\u001b[39mlistdir(image_input)])  \n",
      "\u001b[0;31mNameError\u001b[0m: name 'labels' is not defined"
     ]
    }
   ],
   "source": [
    "import os\n",
    "import math\n",
    "import pandas as pd\n",
    "import matplotlib.pyplot as plt\n",
    "from PIL import Image\n",
    "\n",
    "# Set the paths\n",
    "output_folders = [\n",
    "f'{local_dir}/directory/{label}' for label in labels\n",
    "]\n",
    "\n",
    "# To collect all image IDs\n",
    "image_ids = set([filename.split('.')[0] for filename in os.listdir(image_input)])  \n",
    "# Number of rows and columns for the grid\n",
    "cols = 2\n",
    "rows = math.ceil(len(image_ids) / cols)\n",
    "\n",
    "# Create a figure with subplots\n",
    "fig, axes = plt.subplots(rows, cols, figsize=(10, 100))  # Adjust figsize as needed\n",
    "axes = axes.flatten()  # Flatten axes for easier indexing\n",
    "\n",
    "# Read the classification results into a list of DataFrames\n",
    "output_dfs = {}\n",
    "for folder in output_folders:\n",
    "    results_df = pd.read_csv(os.path.join(folder, 'results.csv'))\n",
    "    results_df['filename_key'] = results_df['filename_key'].astype(str)\n",
    "    label = folder.split('/')[-1]\n",
    "    output_dfs[label] = results_df\n",
    "\n",
    "# Sort image IDs to ensure consistent ordering\n",
    "sorted_image_ids = sorted(image_ids)\n",
    "\n",
    "# Iterate through each unique image ID\n",
    "for i, img_uuid in enumerate(sorted_image_ids):  # Limit to available images\n",
    "    img_path = os.path.join(image_input, f\"{img_uuid}.png\")  # Adjust if necessary\n",
    "\n",
    "    if os.path.exists(img_path):  # Check if image exists\n",
    "        img = Image.open(img_path)\n",
    "\n",
    "        # Display the image\n",
    "        axes[i].imshow(img)\n",
    "        axes[i].axis('off')  # Hide axes for the image\n",
    "\n",
    "        # Prepare to display classification outcomes\n",
    "        outcome_text = []\n",
    "        for key, df in output_dfs.items():\n",
    "            result = df.loc[df.iloc[:, 0] == img_uuid, df.columns[1]].values\n",
    "            if len(result) > 0:\n",
    "                outcome_text.append(f\"{key}: {result[0]}\")\n",
    "            else:\n",
    "                outcome_text.append(f\"{key}: N/A\")  # If no result found\n",
    "\n",
    "        # Overlay the classification outcomes at the bottom right corner of the image\n",
    "        axes[i].text(0.95, 0.05, \"\\n\".join(outcome_text), fontsize=7, ha='right', va='bottom', \n",
    "                     color='white', bbox=dict(facecolor='black', alpha=0.5), transform=axes[i].transAxes)  # Add a semi-transparent background for better readability\n",
    "    else:\n",
    "        print(f\"Image for UUID {img_uuid} not found.\")\n",
    "\n",
    "# Adjust layout and remove empty subplots\n",
    "for j in range(len(sorted_image_ids), rows * cols):\n",
    "    axes[j].axis('off')  # Hide any unused axes\n",
    "\n",
    "plt.tight_layout()\n",
    "plt.show()"
   ]
  }
 ],
 "metadata": {
  "kernelspec": {
   "display_name": "Python 3 (ipykernel)",
   "language": "python",
   "name": "python3"
  },
  "language_info": {
   "codemirror_mode": {
    "name": "ipython",
    "version": 3
   },
   "file_extension": ".py",
   "mimetype": "text/x-python",
   "name": "python",
   "nbconvert_exporter": "python",
   "pygments_lexer": "ipython3",
   "version": "3.11.10"
  },
  "widgets": {
   "application/vnd.jupyter.widget-state+json": {
    "state": {},
    "version_major": 2,
    "version_minor": 0
   }
  }
 },
 "nbformat": 4,
 "nbformat_minor": 4
}
