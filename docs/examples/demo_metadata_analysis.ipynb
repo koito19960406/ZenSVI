{
 "cells": [
  {
   "cell_type": "markdown",
   "metadata": {},
   "source": [
    "## How to analyze metadata\n",
    "*zensvi.metadata: A module to analyze metadata from Mapillary*\n",
    "\n",
    "This sub-package for metadata analysis is built upon the basic metadata provided by Mapillary (such as capture time, camera parameters, and spatial coordinates) and further augments it by computing additional features. \n",
    "The package provides solutions for comprehensive metadata analysis at three levels: \n",
    "1) image-level\n",
    "2) grid-level\n",
    "3) street-level analyses"
   ]
  },
  {
   "cell_type": "markdown",
   "metadata": {},
   "source": [
    "#### Preparation"
   ]
  },
  {
   "cell_type": "code",
   "execution_count": null,
   "metadata": {},
   "outputs": [],
   "source": [
    "# If zen-svi is not installed\n",
    "%pip install --upgrade zensvi \n",
    "\n",
    "import zensvi\n",
    "\n",
    "print(zensvi.__version__)"
   ]
  },
  {
   "cell_type": "code",
   "execution_count": 2,
   "metadata": {},
   "outputs": [],
   "source": [
    "# Import the required libraries\n",
    "from zensvi.metadata import MLYMetadata\n",
    "import os"
   ]
  },
  {
   "cell_type": "markdown",
   "metadata": {},
   "source": [
    "### Image-level metadata analysis\n",
    "\n",
    "List of metadata fields:\n",
    "- `year`: Year of the image\n",
    "- `month`: Month of the image\n",
    "- `day`: Day of the image\n",
    "- `hour`: Hour of the image\n",
    "- `day_of_week`: Day of the week of the image\n",
    "- `daytime_nighttime`: Daytime or nighttime of the image\n",
    "- `season`: Season of the image\n",
    "- `relative_angle`: Relative angle of the image with respect to the street\n",
    "- `h3_id`: H3 ID of the image from level 0 to 15\n",
    "- `speed_kmh`: Speed of the vehicle when the image was captured"
   ]
  },
  {
   "cell_type": "code",
   "execution_count": null,
   "metadata": {},
   "outputs": [],
   "source": [
    "# Preparation of the input data\n",
    "path_input = \"input_csv_file\" #input CSV file downloaded with the images from MLY\n",
    "path_output=\"./metadata\" \n",
    "if not os.path.exists(path_output):\n",
    "    os.makedirs(path_output)"
   ]
  },
  {
   "cell_type": "code",
   "execution_count": null,
   "metadata": {},
   "outputs": [],
   "source": [
    "# Image-level metadata analysis\n",
    "mly_metadata = MLYMetadata(path_input)\n",
    "mly_metadata.compute_metadata(\n",
    "    unit=\"image\", # unit of the metadata\n",
    "    indicator_list=\"all\", # list of indicators to compute. You can specify a list of indicators in space-separated format, e.g., \"year month day\" or \"all\" to compute all indicators\n",
    "    path_output=path_output # path to the output file\n",
    ")"
   ]
  },
  {
   "cell_type": "markdown",
   "metadata": {},
   "source": [
    "### Street-level and grid-level metadata analysis\n",
    "\n",
    "List of metadata fields:\n",
    "- `coverage`: Coverage of street view images. For street-level metadata, it is the coverage of the street in terms of length covered by user-defined buffers from street view images. For grid-level metadata, it is the coverage of the grid in terms of area covered by user-defined buffers from street view images.\n",
    "- `count`: Count of the street view images. For street-level metadata, it is the count of the street view images close to the street. For grid-level metadata, it is the count of the street view images in the grid.\n",
    "- `days_elapsed`: Number of days elapsed between the oldest and most recent street view images. \n",
    "- `most_recent_date`: Most recent date of the street view images.\n",
    "- `oldest_date`: Oldest date of the street view images.\n",
    "- `number_of_years`: Number of unique years of the street view images.\n",
    "- `number_of_months`: Number of unique months of the street view images.\n",
    "- `number_of_days`: Number of unique days of the street view images.\n",
    "- `number_of_hours`: Number of unique hours of the street view images.\n",
    "- `number_of_days_of_week`: Number of unique days of the week of the street view images.\n",
    "- `number_of_daytime`: Number of daytime street view images. This is computed based on the sunrise and sunset times of the location.\n",
    "- `number_of_nighttime`: Number of nighttime street view images. This is computed based on the sunrise and sunset times of the location.\n",
    "- `number_of_spring`: Number of spring street view images. This is computed based on the season of the location.\n",
    "- `number_of_summer`: Number of summer street view images. This is computed based on the season of the location.\n",
    "- `number_of_autumn`: Number of autumn street view images. This is computed based on the season of the location.\n",
    "- `number_of_winter`: Number of winter street view images. This is computed based on the season of the location.\n",
    "- `average_compass_angle`: Average compass angle of the street view images.\n",
    "- `average_relative_angle`: Average relative angle of the street view images.\n",
    "- `average_is_pano`: Average ratio of panoramic street view images.\n",
    "- `number_of_users`: Number of unique users of the street view images.\n",
    "- `number_of_sequences`: Number of unique sequences of the street view images.\n",
    "- `number_of_organizations`: Number of unique organizations of the street view images.\n",
    "- `average_speed_kmh`: Average speed of camera when the street view images were captured."
   ]
  },
  {
   "cell_type": "markdown",
   "metadata": {},
   "source": [
    "#### Street-level metadata analysis"
   ]
  },
  {
   "cell_type": "code",
   "execution_count": null,
   "metadata": {},
   "outputs": [],
   "source": [
    "# Preparation of the input data\n",
    "path_input = \"input_csv_file\" #input CSV file downloaded with the images from MLY\n",
    "path_output=\"./metadata\" \n",
    "if not os.path.exists(path_output):\n",
    "    os.makedirs(path_output)"
   ]
  },
  {
   "cell_type": "code",
   "execution_count": null,
   "metadata": {},
   "outputs": [],
   "source": [
    "#Street Level Metadata\n",
    "mly_metadata = MLYMetadata(path_input)\n",
    "mly_metadata.compute_metadata(\n",
    "    unit=\"street\",  # unit of the metadata\n",
    "    indicator_list=\"all\",  # list of indicators to compute. You can specify a list of indicators in space-separated format, e.g., \"coverage count days_elapsed\" or \"all\" to compute all indicators\n",
    "    coverage_buffer=50,  # buffer size in meters for computing coverage\n",
    "    path_output=path_output,  # path to the output file\n",
    ")"
   ]
  },
  {
   "cell_type": "markdown",
   "metadata": {},
   "source": [
    "#### Grid-level metadata analysis"
   ]
  },
  {
   "cell_type": "code",
   "execution_count": null,
   "metadata": {},
   "outputs": [],
   "source": [
    "# Preparation of the input data\n",
    "path_input = \"input_csv_file\" #input CSV file downloaded with the images from MLY\n",
    "path_output=\"./metadata\" \n",
    "if not os.path.exists(path_output):\n",
    "    os.makedirs(path_output)"
   ]
  },
  {
   "cell_type": "code",
   "execution_count": null,
   "metadata": {},
   "outputs": [],
   "source": [
    "#Grid Level Metadata\n",
    "mly_metadata = MLYMetadata(path_input)\n",
    "mly_metadata.compute_metadata(\n",
    "    unit=\"grid\",  # unit of the metadata\n",
    "    grid_resolution=7,  # resolution of the grid in terms of H3 resolution (0-15) to aggregate the metadata\n",
    "    indicator_list=\"all\",  # list of indicators to compute. You can specify a list of indicators in space-separated format, e.g., \"coverage count days_elapsed\" or \"all\" to compute all indicators\n",
    "    coverage_buffer=50,  # buffer size in meters for computing coverage\n",
    "    path_output=path_output,  # path to the output file\n",
    ")"
   ]
  }
 ],
 "metadata": {
  "kernelspec": {
   "display_name": "Python 3",
   "language": "python",
   "name": "python3"
  },
  "language_info": {
   "codemirror_mode": {
    "name": "ipython",
    "version": 3
   },
   "file_extension": ".py",
   "mimetype": "text/x-python",
   "name": "python",
   "nbconvert_exporter": "python",
   "pygments_lexer": "ipython3",
   "version": "3.11.4"
  }
 },
 "nbformat": 4,
 "nbformat_minor": 2
}
