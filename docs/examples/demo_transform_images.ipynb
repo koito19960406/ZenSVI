{
 "cells": [
  {
   "cell_type": "markdown",
   "metadata": {},
   "source": [
    "## How to transform images\n",
    "*zensvi.transform: A module to transform images*\n",
    "\n",
    "\"ImageTransformer\" offers options to transform panoramic imagery into two further view types: \n",
    "1. perspective\n",
    "2. fisheye\n",
    "\n",
    "\"PointCloudProcessor\" provides point cloud generation capabilities based on depth estimation in the computer vision sub-package, thus enabling advanced spatial analysis of street-level imagery. \n"
   ]
  },
  {
   "cell_type": "markdown",
   "metadata": {},
   "source": [
    "#### Preparation"
   ]
  },
  {
   "cell_type": "code",
   "execution_count": null,
   "metadata": {},
   "outputs": [],
   "source": [
    "# If zen-svi is not installed\n",
    "%pip install --upgrade zensvi \n",
    "\n",
    "import zensvi\n",
    "\n",
    "print(zensvi.__version__)"
   ]
  },
  {
   "cell_type": "code",
   "execution_count": 7,
   "metadata": {},
   "outputs": [],
   "source": [
    "# Import the required libraries\n",
    "from zensvi.transform import ImageTransformer\n",
    "from zensvi.transform import PointCloudProcessor\n",
    "import pandas as pd\n",
    "import os"
   ]
  },
  {
   "cell_type": "markdown",
   "metadata": {},
   "source": [
    "#### Panorama image transform\n",
    "- Panorama to perscpective image transformation: Transforms a panorama image to a perspective image.\n",
    "- Panorama to fisheye image transformation: Transforms a panorama image to a fisheye image. Types of fisheye transformations include stereographic, equidistant, equisolid, and orthographic.\n"
   ]
  },
  {
   "cell_type": "code",
   "execution_count": null,
   "metadata": {},
   "outputs": [
    {
     "name": "stderr",
     "output_type": "stream",
     "text": [
      "Converting to perspective: 100%|██████████| 10/10 [00:05<00:00,  1.78it/s]\n",
      "Converting to equidistant_fisheye: 100%|██████████| 10/10 [00:00<00:00, 309.64it/s]\n",
      "Converting to orthographic_fisheye:   0%|          | 0/10 [00:00<?, ?it/s]/data/yihan/miniconda3/lib/python3.11/site-packages/zensvi/transform/transform_image.py:222: RuntimeWarning: invalid value encountered in cast\n",
      "  yp = np.floor((2 / np.pi) * np.arcsin(r / R) * rows).astype(int)\n",
      "/data/yihan/miniconda3/lib/python3.11/site-packages/zensvi/transform/transform_image.py:222: RuntimeWarning: invalid value encountered in arcsin\n",
      "  yp = np.floor((2 / np.pi) * np.arcsin(r / R) * rows).astype(int)\n",
      "Converting to orthographic_fisheye: 100%|██████████| 10/10 [00:00<00:00, 535.64it/s]\n",
      "Converting to stereographic_fisheye: 100%|██████████| 10/10 [00:00<00:00, 572.74it/s]\n",
      "Converting to equisolid_fisheye: 100%|██████████| 10/10 [00:00<00:00, 530.64it/s]\n"
     ]
    }
   ],
   "source": [
    "# Set the input and output directories\n",
    "dir_input = \"path/to/input/images\" # directory containing the images to be transformed\n",
    "dir_output = \"./transformed_images\" # directory to save the transformed images\n",
    "\n",
    "# Start transforming images\n",
    "# Set the parameters for the transformation, field of view (FOV), angle of view (theta), angle of view (phi), aspect ratio, size of the image to show (show_size), use_upper_half\n",
    "image_transformer = ImageTransformer(dir_input=dir_input, dir_output=dir_output)\n",
    "image_transformer.transform_images(\n",
    "    style_list=\"perspective equidistant_fisheye orthographic_fisheye stereographic_fisheye equisolid_fisheye\",  # list of projection styles in the form of a string separated by a space\n",
    "    FOV=90,  # field of view\n",
    "    theta=120,  # angle of view (horizontal)\n",
    "    phi=0,  # angle of view (vertical)\n",
    "    aspects=(9, 16),  # aspect ratio\n",
    "    show_size=100, # size of the image to show (i.e. scale factor)\n",
    "    use_upper_half=False, # if True, only the upper half of the image is used for transformation. Use this for fisheye images to estimate sky view.\n",
    ") "
   ]
  },
  {
   "cell_type": "markdown",
   "metadata": {},
   "source": [
    "#### Image to Point Cloud transformation\n",
    "- Image to Point Cloud transformation: Converts depth and color images into 3D point clouds.\n",
    "- Point Cloud Saving: Supports saving point clouds in multiple formats such as PCD, PLY, NumPy, and CSV.\n",
    "- Point Cloud Visualization: Provides visualization tools for inspecting generated point clouds."
   ]
  },
  {
   "cell_type": "code",
   "execution_count": null,
   "metadata": {},
   "outputs": [],
   "source": [
    "# Directories for input and output\n",
    "dir_input = \"path/to/input/images\"\n",
    "dir_output = \"./point_clouds\"\n",
    "\n",
    "# Metadata of SVI, controlling the  global attributes of generated point clouds (e.g., ID of images to process, global coordinates, and headings)\n",
    "# data = pd.read_csv(f\"{dir_input}/point_cloud_test_df.csv\")\n",
    "data = pd.read_csv(f\"path/to/mly_pids.csv\")\n",
    "\n",
    "# Initialize the PointCloudProcessor with paths to the image and depth folders\n",
    "image_folder = f\"{dir_input}/color\"\n",
    "if not os.path.exists(image_folder):\n",
    "    os.makedirs(image_folder)\n",
    "depth_folder = f\"{dir_input}/depth\"\n",
    "if not os.path.exists(depth_folder):\n",
    "    os.makedirs(depth_folder)\n",
    "point_cloud_processor = PointCloudProcessor(image_folder=image_folder, depth_folder=depth_folder)\n",
    "\n",
    "# Process multiple point clouds\n",
    "point_cloud_processor.process_multiple_images(\n",
    "    data=data,\n",
    "    output_dir=dir_output, \n",
    "    depth_max=None,\n",
    "    use_absolute_depth=True, # Output directory to save the point clouds. If None, the point clouds are not saved\n",
    "    save_format=\"pcd\"  # Format to save the point clouds ('pcd', 'ply', 'npz', 'csv')\n",
    ")\n",
    "\n",
    "# Optional: Visualize one of the generated point clouds\n",
    "point_clouds = point_cloud_processor.process_multiple_images(data=data, epth_max=None, use_absolute_depth=True,)\n",
    "point_cloud_processor.visualize_point_cloud(point_clouds[0])\n",
    "\n",
    "# Optional: Save the first generated point cloud in additional formats\n",
    "point_cloud_processor.save_point_cloud_numpy(point_clouds[0], f\"{dir_output}/point_cloud_0001.npz\")\n",
    "point_cloud_processor.save_point_cloud_csv(point_clouds[0], f\"{dir_output}/point_cloud_0001.csv\")"
   ]
  }
 ],
 "metadata": {
  "kernelspec": {
   "display_name": "Python 3",
   "language": "python",
   "name": "python3"
  },
  "language_info": {
   "codemirror_mode": {
    "name": "ipython",
    "version": 3
   },
   "file_extension": ".py",
   "mimetype": "text/x-python",
   "name": "python",
   "nbconvert_exporter": "python",
   "pygments_lexer": "ipython3",
   "version": "3.11.4"
  }
 },
 "nbformat": 4,
 "nbformat_minor": 2
}
